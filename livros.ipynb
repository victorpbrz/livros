{
 "cells": [
  {
   "cell_type": "markdown",
   "metadata": {},
   "source": [
    "## Livros"
   ]
  },
  {
   "cell_type": "markdown",
   "metadata": {},
   "source": [
    "### $1.\\ $ [Essays on Atomic Physics and Human Knowledge](https://nbviewer.org/github/victorpbrz/Livros/blob/main/bohr-essays.pdf)\n",
    "\n",
    "### $2.\\ $ [Feynman Lectures on Computation](https://nbviewer.org/github/victorpbrz/Livros/blob/main/feynman%20lectures%20on%20computation.pdf)\n",
    "\n",
    "### $3.\\ $ [Feynman Lectures on Physics, vol. I](https://nbviewer.org/github/victorpbrz/Livros/blob/main/feynman-1.pdf)\n",
    "\n",
    "### $4.\\ $ [Feynman Lectures on Physics, vol. II](https://nbviewer.org/github/victorpbrz/Livros/blob/main/feynman-2.pdf?flush_cache=true)\n",
    "\n",
    "### $5.\\ $ [Feynman Lectures on Physics, vol. III](https://nbviewer.org/github/victorpbrz/Livros/blob/main/feynman-3.pdf)\n",
    "\n",
    "### $6.\\ $ [Introduction to Quantum Mechanics](https://nbviewer.org/github/victorpbrz/Livros/blob/main/introduction%20to%20quantum%20mechanics.pdf)\n",
    "\n",
    "### $7.\\ $ [Introductory Quantum Optics](https://nbviewer.org/github/victorpbrz/Livros/blob/main/introductory%20quantum%20optics.pdf)\n",
    "\n",
    "### $8.\\ $ [Introdução à Física Estatística](https://nbviewer.org/github/victorpbrz/Livros/blob/main/introdução%20à%20física%20estatística.pdf)\n",
    "\n",
    "### $9.\\ $ [Mathematical Foundations of Quantum Mechanics](https://nbviewer.org/github/victorpbrz/Livros/blob/main/mathematical%20foundations%20of%20quantum%20mechanics.pdf)\n",
    "\n",
    "### $10.\\ $ [Mathematical Methods for Physicists](https://nbviewer.org/github/victorpbrz/Livros/blob/main/mathematical%20methods%20for%20physicists.pdf)\n",
    "\n",
    "### $11.\\ $ [Notas de Mecânica Quântica - A. Piza](https://nbviewer.org/github/victorpbrz/Livros/blob/main/notas%20mq%20-%20piza.pdf)\n",
    "\n",
    "### $12.\\ $ [Quantum Computation and Quantum Information](https://nbviewer.org/github/victorpbrz/Livros/blob/main/q-computation%20and%20q-information.pdf)\n",
    "\n",
    "### $13.\\ $ [Quantum Information Theory](https://nbviewer.org/github/victorpbrz/Livros/blob/main/quantum%20information%20theory.pdf)\n",
    "\n",
    "### $14.\\ $ [Quantum Optics - Taming the Quantum](https://nbviewer.org/github/victorpbrz/Livros/blob/main/quantum%20optics%20-%20pierre%20meystre.pdf)\n",
    "\n",
    "### $15.\\ $ [Quantum Optics - M. Scully](https://nbviewer.org/github/victorpbrz/Livros/blob/main/quantum_optics.pdf?flush_cache=true)\n",
    "\n",
    "### $16.\\ $ [Thermodynamics and Thermostatistics](https://nbviewer.org/github/victorpbrz/Livros/blob/main/thermodynamics.pdf)"
   ]
  },
  {
   "cell_type": "markdown",
   "metadata": {},
   "source": [
    "###"
   ]
  }
 ],
 "metadata": {
  "kernelspec": {
   "display_name": "Python 3 (ipykernel)",
   "language": "python",
   "name": "python3"
  },
  "language_info": {
   "codemirror_mode": {
    "name": "ipython",
    "version": 3
   },
   "file_extension": ".py",
   "mimetype": "text/x-python",
   "name": "python",
   "nbconvert_exporter": "python",
   "pygments_lexer": "ipython3",
   "version": "3.11.7"
  }
 },
 "nbformat": 4,
 "nbformat_minor": 4
}
